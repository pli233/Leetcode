{
 "cells": [
  {
   "cell_type": "markdown",
   "metadata": {},
   "source": [
    "1、在内存中开辟了一段连续的内存空间，大小是 10 * sizeof(int) 字节。一个 int 在计算机内存中占 4 字节，也就是总共 40 字节。\n",
    "\n",
    "2、定义了一个名为 arr 的数组指针，指向这段内存空间的首地址。\n",
    "\n",
    "那么 arr[1] = 2 这段代码又做了什么事情呢？主要有这么几件事：\n",
    "\n",
    "1、计算 arr 的首地址加上 1 * sizeof(int) 字节（4 字节）的偏移量，找到了内存空间中的第二个元素的首地址。\n",
    "\n",
    "2、从这个地址开始的 4 个字节的内存空间中写入了整数 2。"
   ]
  },
  {
   "cell_type": "code",
   "execution_count": 1,
   "metadata": {},
   "outputs": [
    {
     "name": "stdout",
     "output_type": "stream",
     "text": [
      "1\n"
     ]
    }
   ],
   "source": [
    "#定义一个大小为10的静态数组\n",
    "arr = [0] * 10\n",
    "\n",
    "#Use index to set a value\n",
    "arr[0] = 1\n",
    "arr[1] = 2\n",
    "\n",
    "#Use index to get value\n",
    "print(arr[0])"
   ]
  },
  {
   "cell_type": "markdown",
   "metadata": {},
   "source": [
    "## 增删查改\n",
    "### 增加\n",
    "\n",
    "情况一，数组末尾追加（append）元素\n",
    "\n",
    "可以看到，由于只是对索引赋值，所以在数组末尾追加元素的时间复杂度是 O(1)。"
   ]
  },
  {
   "cell_type": "code",
   "execution_count": 4,
   "metadata": {},
   "outputs": [
    {
     "name": "stdout",
     "output_type": "stream",
     "text": [
      "[0, 1, 2, 3, 0, 0, 0, 0, 0, 0]\n",
      "[0, 1, 2, 3, 4, 0, 0, 0, 0, 0]\n"
     ]
    }
   ],
   "source": [
    "arr = [0] * 10\n",
    "\n",
    "for i in range(4):\n",
    "    arr[i] = i\n",
    "print(arr)\n",
    "\n",
    "arr[4] = 4\n",
    "\n",
    "print(arr)"
   ]
  },
  {
   "cell_type": "markdown",
   "metadata": {},
   "source": [
    "情况二，数组中间插入（insert）元素\n",
    "\n",
    "在数组中间插入元素的时间复杂度是 O(N)，因为涉及到数据搬移，给新元素腾地方"
   ]
  },
  {
   "cell_type": "code",
   "execution_count": 6,
   "metadata": {},
   "outputs": [
    {
     "name": "stdout",
     "output_type": "stream",
     "text": [
      "[0, 1, 2, 3, 0, 0, 0, 0, 0, 0]\n",
      "[0, 1, 666, 2, 3, 0, 0, 0, 0, 0]\n"
     ]
    }
   ],
   "source": [
    "# 大小为 10 的数组已经装了 4 个元素\n",
    "arr = [0] * 10\n",
    "for i in range(4):\n",
    "    arr[i] = i\n",
    "print(arr)\n",
    "# 在第 3 个位置插入元素 666\n",
    "# 需要把第 3 个位置及之后的元素都往后移动一位\n",
    "# range(4,2,-1) -> 3,2\n",
    "for i in range(4, 2, -1):\n",
    "    arr[i] = arr[i - 1]\n",
    "\n",
    "# 现在第 3 个位置空出来了，可以插入新元素\n",
    "arr[2] = 666\n",
    "print(arr)"
   ]
  },
  {
   "cell_type": "markdown",
   "metadata": {},
   "source": [
    "情况三，数组空间已满\n",
    "\n",
    "连续内存必须一次性分配，分配完了之后就不能随意增减了\n",
    "\n",
    "要重新申请一块更大的内存空间，把原来的数据复制过去，再插入新的元素，这就是数组的「扩容」操作"
   ]
  },
  {
   "cell_type": "code",
   "execution_count": 7,
   "metadata": {},
   "outputs": [
    {
     "name": "stdout",
     "output_type": "stream",
     "text": [
      "[0, 1, 2, 3, 4, 5, 6, 7, 8, 9, 10, 0, 0, 0, 0, 0, 0, 0, 0, 0]\n"
     ]
    }
   ],
   "source": [
    "# 大小为 10 的数组已经装满了\n",
    "arr = [i for i in range(10)]\n",
    "\n",
    "# 现在想在数组末尾追加一个元素 10\n",
    "# 需要先扩容数组\n",
    "newArr = [0] * 20\n",
    "\n",
    "# 把原来的 10 个元素复制过去\n",
    "for i in range(10):\n",
    "    newArr[i] = arr[i]\n",
    "\n",
    "# 释放旧数组的内存空间\n",
    "# ...\n",
    "\n",
    "# 在新的大数组中追加新元素\n",
    "newArr[10] = 10\n",
    "print(newArr)"
   ]
  },
  {
   "cell_type": "markdown",
   "metadata": {},
   "source": [
    "### 删除\n",
    "情况一，删除末尾元素\n",
    "\n",
    "删除数组尾部元素的本质就是进行一次随机访问，时间复杂度是 O(1)"
   ]
  },
  {
   "cell_type": "code",
   "execution_count": 12,
   "metadata": {},
   "outputs": [
    {
     "name": "stdout",
     "output_type": "stream",
     "text": [
      "[0, 1, 2, 3, -1, 0, 0, 0, 0, 0]\n",
      "0 1 2 3 "
     ]
    }
   ],
   "source": [
    "# 大小为 10 的数组已经装了 5 个元素\n",
    "arr = [0] * 10\n",
    "for i in range(5):\n",
    "    arr[i] = i\n",
    "\n",
    "# 删除末尾元素，暂时用 -1 代表元素已删除\n",
    "arr[4] = -1\n",
    "print(arr)\n",
    "\n",
    "for i in range(len(arr)):\n",
    "    if arr[i] == -1:\n",
    "        break\n",
    "    print(arr[i], end=\" \")"
   ]
  },
  {
   "cell_type": "markdown",
   "metadata": {},
   "source": [
    "情况二，删除中间元素\n",
    "\n",
    "比方说，我有一个大小为 10 的数组，里面装了 5 个元素，现在想删除第 2 个元素（arr[1]），怎么办？\n",
    "\n",
    "这也要涉及「数据搬移」，把被删元素后面的元素都往前移动一位，保持数组元素的连续性。"
   ]
  },
  {
   "cell_type": "code",
   "execution_count": 14,
   "metadata": {},
   "outputs": [
    {
     "name": "stdout",
     "output_type": "stream",
     "text": [
      "[0, 2, 3, 4, 4, 0, 0, 0, 0, 0]\n",
      "[0, 2, 3, 4, -1, 0, 0, 0, 0, 0]\n"
     ]
    }
   ],
   "source": [
    "arr = [0] * 10\n",
    "\n",
    "for i in range(5):\n",
    "    arr[i] = i\n",
    "    \n",
    "#delete arr[1], we need to bring elements after arr[1] all one step forward\n",
    "# 0 1 2 3 4 -> 0 2 3 4 4 -> 0 2 3 4 -1\n",
    "for i in range(1, 4):\n",
    "    arr[i] = arr[i+1]\n",
    "print(arr)\n",
    "arr[4] = -1\n",
    "print(arr)"
   ]
  },
  {
   "cell_type": "markdown",
   "metadata": {},
   "source": [
    "## 总结\n",
    "综上，静态数组的增删查改操作的时间复杂度是：\n",
    "\n",
    "增：\n",
    "\n",
    "在末尾追加元素：O(1)。\n",
    "\n",
    "在中间（非末尾）插入元素：O(N)。\n",
    "\n",
    "删：\n",
    "\n",
    "删除末尾元素：O(1)。\n",
    "\n",
    "删除中间（非末尾）元素：O(N)。\n",
    "\n",
    "查：给定指定索引，查询索引对应的元素的值，时间复杂度 O(1)。\n",
    "\n",
    "改：给定指定索引，修改索引对应的元素的值，时间复杂度 O(1)。"
   ]
  },
  {
   "cell_type": "code",
   "execution_count": null,
   "metadata": {},
   "outputs": [],
   "source": []
  }
 ],
 "metadata": {
  "kernelspec": {
   "display_name": "Python 3",
   "language": "python",
   "name": "python3"
  },
  "language_info": {
   "codemirror_mode": {
    "name": "ipython",
    "version": 3
   },
   "file_extension": ".py",
   "mimetype": "text/x-python",
   "name": "python",
   "nbconvert_exporter": "python",
   "pygments_lexer": "ipython3",
   "version": "3.12.6"
  }
 },
 "nbformat": 4,
 "nbformat_minor": 2
}
