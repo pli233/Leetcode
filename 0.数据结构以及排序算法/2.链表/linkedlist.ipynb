{
 "cells": [
  {
   "cell_type": "markdown",
   "metadata": {},
   "source": [
    "## Linked List Node"
   ]
  },
  {
   "cell_type": "code",
   "execution_count": 1,
   "metadata": {},
   "outputs": [],
   "source": [
    "class ListNode:\n",
    "    def __init__(self, x):\n",
    "        self.val = x\n",
    "        self.next = None"
   ]
  },
  {
   "cell_type": "code",
   "execution_count": 2,
   "metadata": {},
   "outputs": [],
   "source": [
    "class Node:\n",
    "    def __init__(self, prev, element, next):\n",
    "        self.val = element\n",
    "        self.next = next\n",
    "        self.prev = prev"
   ]
  },
  {
   "cell_type": "code",
   "execution_count": 3,
   "metadata": {},
   "outputs": [],
   "source": [
    "def arrayToLinkedList(arr: list[int]) -> ListNode:\n",
    "    # 函数体\n",
    "    \n",
    "    if len(arr) == 0:\n",
    "        return None\n",
    "    \n",
    "    head = ListNode(arr[0])\n",
    "    cur = head\n",
    "    for i in range(1, len(arr)):\n",
    "        cur.next = ListNode(arr[i])\n",
    "        cur = cur.next\n",
    "    return head\n"
   ]
  },
  {
   "cell_type": "code",
   "execution_count": 4,
   "metadata": {},
   "outputs": [
    {
     "name": "stdout",
     "output_type": "stream",
     "text": [
      "1\n",
      "2\n",
      "3\n",
      "4\n",
      "5\n"
     ]
    }
   ],
   "source": [
    "# 创建一条单链表\n",
    "head = arrayToLinkedList([1,2,3,4,5])\n",
    "\n",
    "#遍历打印\n",
    "cur = head\n",
    "while cur is not None:\n",
    "    print(cur.val)\n",
    "    cur = cur.next"
   ]
  },
  {
   "cell_type": "code",
   "execution_count": 7,
   "metadata": {},
   "outputs": [
    {
     "name": "stdout",
     "output_type": "stream",
     "text": [
      "3\n",
      "1\n",
      "2\n",
      "3\n",
      "66\n",
      "4\n",
      "5\n"
     ]
    }
   ],
   "source": [
    "#在链表中间插入一个值\n",
    "#head[3]\n",
    "\n",
    "head = arrayToLinkedList([1,2,3,4,5])\n",
    "\n",
    "cur = head\n",
    "for i in range(2):\n",
    "    cur = cur.next\n",
    "print(cur.val)\n",
    "\n",
    "newNode = ListNode(66)\n",
    "newNode.next = cur.next\n",
    "cur.next = newNode\n",
    "\n",
    "cur = head\n",
    "while cur is not None:\n",
    "    print(cur.val)\n",
    "    cur = cur.next"
   ]
  },
  {
   "cell_type": "code",
   "execution_count": null,
   "metadata": {},
   "outputs": [],
   "source": [
    "# 创建一条单链表\n",
    "head = arrayToLinkedList([1, 2, 3, 4, 5])\n",
    "\n",
    "# 删除第 4 个节点，要操作前驱节点\n",
    "p = head\n",
    "for i in range(2):\n",
    "    p = p.next\n",
    "\n",
    "# 此时 p 指向第 3 个节点，即要删除节点的前驱节点\n",
    "# 把第 4 个节点从链表中摘除\n",
    "p.next = p.next.next\n",
    "\n",
    "# 现在链表变成了 1 -> 2 -> 3 -> 5"
   ]
  }
 ],
 "metadata": {
  "kernelspec": {
   "display_name": "csci2470",
   "language": "python",
   "name": "python3"
  },
  "language_info": {
   "codemirror_mode": {
    "name": "ipython",
    "version": 3
   },
   "file_extension": ".py",
   "mimetype": "text/x-python",
   "name": "python",
   "nbconvert_exporter": "python",
   "pygments_lexer": "ipython3",
   "version": "3.11.9"
  }
 },
 "nbformat": 4,
 "nbformat_minor": 2
}
