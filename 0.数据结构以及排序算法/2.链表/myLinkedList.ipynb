{
 "cells": [
  {
   "cell_type": "code",
   "execution_count": null,
   "metadata": {},
   "outputs": [],
   "source": [
    "class Node:\n",
    "    def __init__(self, val):\n",
    "        self.val = val\n",
    "        self.next = None\n",
    "        self.prev = None\n",
    "        \n",
    "#Doubly LinkedList\n",
    "class MyLinkedList:\n",
    "\n",
    "    def __init__(self):\n",
    "        self.head = Node(None)\n",
    "        self.tail = Node(None)\n",
    "        self.head.next = self.tail\n",
    "        self.tail.prev = self.head\n",
    "        self.size = 0\n",
    "\n",
    "    def get(self, index: int) -> int:\n",
    "        if not self.check_valid_index(index):\n",
    "           return -1\n",
    "        return self.get_node(index).val\n",
    "        \n",
    "    def get_node(self, index: int) -> Node:\n",
    "        \n",
    "        #size = 1, index = 1\n",
    "        if not self.check_valid_index(index):\n",
    "           return -1\n",
    "        \n",
    "        if index < self.size/2:\n",
    "            #index = 0, return head.next\n",
    "            #index = 1, return head.next.next\n",
    "            p = self.head.next\n",
    "            for _ in range(index):\n",
    "                p = p.next\n",
    "            return p\n",
    "        else:\n",
    "            p = self.tail.prev\n",
    "            for _ in range(self.size-1, index, -1):\n",
    "                p = p.prev\n",
    "            return p\n",
    "\n",
    "    def addAtHead(self, val: int) -> None:\n",
    "        newNode = Node(val)\n",
    "        \n",
    "        #head <- NewNode -> head.next\n",
    "        newNode.prev = self.head\n",
    "        newNode.next = self.head.next\n",
    "        \n",
    "        #head <- NewNode <-> head.next\n",
    "        self.head.next.prev = newNode\n",
    "        \n",
    "        #head <-> NewNode <-> head.next\n",
    "        self.head.next = newNode\n",
    "        \n",
    "        self.size += 1\n",
    "\n",
    "    def addAtTail(self, val: int) -> None:\n",
    "        newNode = Node(val)\n",
    "        \n",
    "        #tail.prev <- NewNode -> tail\n",
    "        newNode.prev = self.tail.prev\n",
    "        newNode.next = self.tail\n",
    "        \n",
    "        #tail.prev <-> NewNode -> tail\n",
    "        self.tail.prev.next = newNode\n",
    "        \n",
    "        #tail.prev <-> NewNode <-> tail\n",
    "        self.tail.prev = newNode\n",
    "\n",
    "        self.size += 1\n",
    "\n",
    "\n",
    "    def addAtIndex(self, index: int, val: int) -> None:        \n",
    "        if index == self.size:\n",
    "            self.addAtTail(val)\n",
    "            return\n",
    "        if index == 0:\n",
    "            self.addAtHead(val)\n",
    "            return\n",
    "\n",
    "        if not self.check_valid_index(index):\n",
    "           return -1\n",
    "           \n",
    "        p = self.get_node(index)\n",
    "        # temp <-> p\n",
    "        temp = p.prev\n",
    "        \n",
    "        newNode = Node(val)\n",
    "        \n",
    "        #temp <- NewNode -> p\n",
    "        newNode.prev = temp\n",
    "        newNode.next = p\n",
    "        \n",
    "        #temp <- NewNode <-> p\n",
    "        p.prev = newNode\n",
    "        #temp <- NewNode <-> p\n",
    "        temp.next = newNode\n",
    "\n",
    "        self.size += 1\n",
    "        return\n",
    "\n",
    "    def deleteAtHead(self) -> None:\n",
    "        \n",
    "        #No need for delete\n",
    "        if self.size == 0:\n",
    "            return None\n",
    "        \n",
    "        #head <-> temp <-> temp.next\n",
    "        temp = self.head.next\n",
    "\n",
    "        self.head.next = temp.next\n",
    "        temp.next.prev = self.head\n",
    "        \n",
    "        temp.next = None\n",
    "        temp.prev = None\n",
    "        \n",
    "        self.size -=1\n",
    "    \n",
    "    def deleteAtTail(self) -> None:\n",
    "        \n",
    "        #No need for delete\n",
    "        if self.size == 0:\n",
    "            return None\n",
    "        \n",
    "        #temp.prev <-> temp <-> tail\n",
    "        temp = self.tail.prev\n",
    "\n",
    "        self.tail.prev = temp.prev\n",
    "        temp.prev.next = self.tail\n",
    "        \n",
    "        temp.next = None\n",
    "        temp.prev = None\n",
    "        \n",
    "        self.size -=1\n",
    "    \n",
    "    def deleteAtIndex(self, index: int) -> None:\n",
    "        if not self.check_valid_index(index):\n",
    "            return None\n",
    "        \n",
    "        if index == 0:\n",
    "            self.deleteAtHead()\n",
    "            return\n",
    "        if index == self.size-1:\n",
    "            self.deleteAtTail()\n",
    "            return\n",
    "        \n",
    "        temp = self.get_node(index)\n",
    "        \n",
    "        #temp.prev <-> temp <-> temp.next\n",
    "        prev = temp.prev\n",
    "        next = temp.next\n",
    "        \n",
    "        prev.next = next\n",
    "        next.prev = prev\n",
    "        \n",
    "        temp.next = None\n",
    "        temp.prev = None\n",
    "        \n",
    "        self.size -=1\n",
    "        \n",
    "    def check_valid_index(self, index: int) -> bool:\n",
    "        return 0 <= index < self.size \n",
    "    \n",
    "    def __str__(self):\n",
    "        p = self.head.next\n",
    "\n",
    "        # Prepare header\n",
    "        representation = f\"{'Index':<10}{'Value':<10}\\n\"\n",
    "        representation += \"-\" * 20 + \"\\n\"\n",
    "\n",
    "        # Iterate and format\n",
    "        index = 0\n",
    "        while p is not self.tail:\n",
    "            representation += f\"{index:<10}{p.val:<10}\\n\"\n",
    "            p = p.next\n",
    "            index += 1\n",
    "\n",
    "        # Add size information at the end\n",
    "        representation += \"-\" * 20 + \"\\n\"\n",
    "        representation += f\"Size: {self.size}\"\n",
    "\n",
    "        return representation"
   ]
  },
  {
   "cell_type": "code",
   "execution_count": 17,
   "metadata": {},
   "outputs": [
    {
     "name": "stdout",
     "output_type": "stream",
     "text": [
      "Index     Value     \n",
      "--------------------\n",
      "0         1         \n",
      "1         12        \n",
      "2         13        \n",
      "3         14        \n",
      "4         18        \n",
      "5         25        \n",
      "6         26        \n",
      "7         99        \n",
      "--------------------\n",
      "Size: 8\n",
      "26\n"
     ]
    }
   ],
   "source": [
    "linkedlist = MyLinkedList()\n",
    "linkedlist.addAtHead(26)\n",
    "linkedlist.addAtHead(25)\n",
    "linkedlist.addAtHead(18)\n",
    "linkedlist.addAtHead(14)\n",
    "linkedlist.addAtHead(13)\n",
    "linkedlist.addAtHead(12)\n",
    "linkedlist.addAtHead(1)\n",
    "linkedlist.addAtIndex(7, 99)\n",
    "print(linkedlist)\n",
    "print(linkedlist.get(6))"
   ]
  },
  {
   "cell_type": "code",
   "execution_count": null,
   "metadata": {},
   "outputs": [
    {
     "name": "stdout",
     "output_type": "stream",
     "text": [
      "Index     Value     \n",
      "--------------------\n",
      "0         12        \n",
      "1         13        \n",
      "2         14        \n",
      "3         18        \n",
      "4         25        \n",
      "5         26        \n",
      "6         99        \n",
      "--------------------\n",
      "Size: 7\n"
     ]
    }
   ],
   "source": [
    "linkedlist.deleteAtHead()\n",
    "print(linkedlist)"
   ]
  },
  {
   "cell_type": "code",
   "execution_count": 19,
   "metadata": {},
   "outputs": [
    {
     "name": "stdout",
     "output_type": "stream",
     "text": [
      "Index     Value     \n",
      "--------------------\n",
      "0         12        \n",
      "1         13        \n",
      "2         14        \n",
      "3         18        \n",
      "4         25        \n",
      "5         26        \n",
      "--------------------\n",
      "Size: 6\n"
     ]
    }
   ],
   "source": [
    "linkedlist.deleteAtTail()\n",
    "print(linkedlist)"
   ]
  },
  {
   "cell_type": "code",
   "execution_count": 20,
   "metadata": {},
   "outputs": [
    {
     "name": "stdout",
     "output_type": "stream",
     "text": [
      "Index     Value     \n",
      "--------------------\n",
      "0         12        \n",
      "1         13        \n",
      "2         14        \n",
      "3         25        \n",
      "4         26        \n",
      "--------------------\n",
      "Size: 5\n"
     ]
    }
   ],
   "source": [
    "linkedlist.deleteAtIndex(3)\n",
    "print(linkedlist)"
   ]
  },
  {
   "cell_type": "code",
   "execution_count": 21,
   "metadata": {},
   "outputs": [
    {
     "name": "stdout",
     "output_type": "stream",
     "text": [
      "Index     Value     \n",
      "--------------------\n",
      "0         12        \n",
      "1         14        \n",
      "2         25        \n",
      "3         26        \n",
      "--------------------\n",
      "Size: 4\n"
     ]
    }
   ],
   "source": [
    "linkedlist.deleteAtIndex(1)\n",
    "print(linkedlist)"
   ]
  },
  {
   "cell_type": "code",
   "execution_count": null,
   "metadata": {},
   "outputs": [
    {
     "name": "stdout",
     "output_type": "stream",
     "text": [
      "Index     Value     \n",
      "--------------------\n",
      "0         25        \n",
      "1         26        \n",
      "--------------------\n",
      "Size: 2\n"
     ]
    }
   ],
   "source": [
    "linkedlist.deleteAtIndex(0)\n",
    "print(linkedlist.get(1))"
   ]
  },
  {
   "cell_type": "code",
   "execution_count": 24,
   "metadata": {},
   "outputs": [
    {
     "name": "stdout",
     "output_type": "stream",
     "text": [
      "26\n"
     ]
    }
   ],
   "source": [
    "print(linkedlist.get(1))"
   ]
  }
 ],
 "metadata": {
  "kernelspec": {
   "display_name": "Python 3",
   "language": "python",
   "name": "python3"
  },
  "language_info": {
   "codemirror_mode": {
    "name": "ipython",
    "version": 3
   },
   "file_extension": ".py",
   "mimetype": "text/x-python",
   "name": "python",
   "nbconvert_exporter": "python",
   "pygments_lexer": "ipython3",
   "version": "3.12.6"
  }
 },
 "nbformat": 4,
 "nbformat_minor": 2
}
