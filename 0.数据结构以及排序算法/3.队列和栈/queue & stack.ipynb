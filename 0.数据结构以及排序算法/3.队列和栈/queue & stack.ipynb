{
 "cells": [
  {
   "cell_type": "markdown",
   "metadata": {},
   "source": []
  },
  {
   "cell_type": "code",
   "execution_count": 5,
   "metadata": {},
   "outputs": [],
   "source": [
    "from collections import deque\n",
    "\n",
    "# 队列的基本 API\n",
    "class MyQueue:\n",
    "    \n",
    "    def __init__(self):\n",
    "        self.list = deque()\n",
    "\n",
    "    # 向队尾插入元素，时间复杂度 O(1)\n",
    "    def push(self, e):\n",
    "        self.list.append(e)\n",
    "\n",
    "    # 从队头删除元素，时间复杂度 O(1)\n",
    "    def pop(self):\n",
    "        self.list.popleft()\n",
    "\n",
    "    # 查看队头元素，时间复杂度 O(1)\n",
    "    def peek(self):\n",
    "        return self.list[0]\n",
    "\n",
    "    # 返回队列中的元素个数，时间复杂度 O(1)\n",
    "    def size(self):\n",
    "        return len(self.list)\n"
   ]
  },
  {
   "cell_type": "code",
   "execution_count": 9,
   "metadata": {},
   "outputs": [
    {
     "name": "stdout",
     "output_type": "stream",
     "text": [
      "deque([1, 2, 3])\n",
      "deque([2, 3])\n",
      "2\n",
      "2\n"
     ]
    }
   ],
   "source": [
    "que = MyQueue()\n",
    "que.push(1)\n",
    "que.push(2)\n",
    "que.push(3)\n",
    "print(que.list)\n",
    "que.pop()\n",
    "print(que.list)\n",
    "print(que.peek())\n",
    "print(que.size())"
   ]
  },
  {
   "cell_type": "code",
   "execution_count": 10,
   "metadata": {},
   "outputs": [],
   "source": [
    "# 栈的基本 API\n",
    "class MyStack:\n",
    "    \n",
    "    def __init__(self):\n",
    "        self.list = deque()\n",
    "    \n",
    "    # 向栈顶插入元素，时间复杂度 O(1)\n",
    "    def push(self, e):\n",
    "        self.list.insert(0,e)\n",
    "    \n",
    "    # 从栈顶删除元素，时间复杂度 O(1)\n",
    "    def pop(self):\n",
    "        self.list.popleft()\n",
    "    \n",
    "    # 查看栈顶元素，时间复杂度 O(1)\n",
    "    def peek(self):\n",
    "        return self.list[0]\n",
    "    \n",
    "    # 返回栈中的元素个数，时间复杂度 O(1)\n",
    "    def size(self):\n",
    "        return len(self.list)"
   ]
  },
  {
   "cell_type": "code",
   "execution_count": 14,
   "metadata": {},
   "outputs": [
    {
     "name": "stdout",
     "output_type": "stream",
     "text": [
      "deque([0, 1, 2, 3])\n",
      "0\n",
      "4\n",
      "deque([1, 2, 3])\n"
     ]
    }
   ],
   "source": [
    "stack = MyStack()\n",
    "stack.push(3)\n",
    "stack.push(2)\n",
    "stack.push(1)\n",
    "stack.push(0)\n",
    "print(stack.list)\n",
    "print(stack.peek())\n",
    "print(stack.size())\n",
    "stack.pop()\n",
    "print(stack.list)"
   ]
  }
 ],
 "metadata": {
  "kernelspec": {
   "display_name": "Python 3",
   "language": "python",
   "name": "python3"
  },
  "language_info": {
   "codemirror_mode": {
    "name": "ipython",
    "version": 3
   },
   "file_extension": ".py",
   "mimetype": "text/x-python",
   "name": "python",
   "nbconvert_exporter": "python",
   "pygments_lexer": "ipython3",
   "version": "3.12.6"
  }
 },
 "nbformat": 4,
 "nbformat_minor": 2
}
