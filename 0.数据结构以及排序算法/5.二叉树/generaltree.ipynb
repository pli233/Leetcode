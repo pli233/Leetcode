{
 "cells": [
  {
   "cell_type": "code",
   "execution_count": null,
   "metadata": {},
   "outputs": [],
   "source": [
    "class Node:\n",
    "    def __init__(self, val: int):\n",
    "        self.val = val\n",
    "        self.children = []"
   ]
  },
  {
   "cell_type": "code",
   "execution_count": null,
   "metadata": {},
   "outputs": [],
   "source": [
    "# N 叉树的遍历框架\n",
    "def traverse_n_ary_tree(root):\n",
    "    if root is None:\n",
    "        return\n",
    "    # 前序位置\n",
    "    for child in root.children:\n",
    "        traverse_n_ary_tree(child)\n",
    "    # 后序位置"
   ]
  },
  {
   "cell_type": "code",
   "execution_count": 1,
   "metadata": {},
   "outputs": [],
   "source": [
    "from collections import deque\n",
    "\n",
    "def BFS(root):\n",
    "    if root is None:\n",
    "        return\n",
    "    \n",
    "    q = deque()\n",
    "    q.append(root)\n",
    "    \n",
    "    while q:\n",
    "        cur = q.popleft()\n",
    "        # 访问 cur 节点\n",
    "        print(cur.val)\n",
    "        \n",
    "        # 把 cur 的所有子节点加入队列\n",
    "        for child in cur.children:\n",
    "            q.append(child)"
   ]
  },
  {
   "cell_type": "code",
   "execution_count": 3,
   "metadata": {},
   "outputs": [],
   "source": [
    "from collections import deque\n",
    "def BFS(root):\n",
    "    if not root:\n",
    "        return\n",
    "    q = deque()\n",
    "    q.append(root)\n",
    "    \n",
    "    depth = 1\n",
    "    while q:\n",
    "        sz = len(q)\n",
    "        for _ in range(sz):\n",
    "            cur = q.popleft()\n",
    "            print(f\"depth = {depth}, val = {cur.val}\")\n",
    "\n",
    "            for child in cur.children:\n",
    "                q.append(child)\n",
    "    depth += 1"
   ]
  },
  {
   "cell_type": "code",
   "execution_count": null,
   "metadata": {},
   "outputs": [],
   "source": [
    "#能够记录深度的BFS\n",
    "from collections import deque\n",
    "\n",
    "def depth_BFS(root):\n",
    "    if root is None:\n",
    "        return\n",
    "    q = deque()\n",
    "    q.append(root)\n",
    "    # 记录当前遍历到的层数（根节点视为第 1 层）\n",
    "    depth = 1\n",
    "\n",
    "    while q:\n",
    "        sz = len(q)\n",
    "        for i in range(sz):\n",
    "            cur = q.popleft()\n",
    "            # 访问 cur 节点，同时知道它所在的层数\n",
    "            print(f\"depth = {depth}, val = {cur.val}\")\n",
    "\n",
    "            for child in cur.children:\n",
    "                q.append(child)\n",
    "        depth += 1"
   ]
  },
  {
   "cell_type": "code",
   "execution_count": null,
   "metadata": {},
   "outputs": [
    {
     "ename": "SyntaxError",
     "evalue": "expected '(' (1774140960.py, line 6)",
     "output_type": "error",
     "traceback": [
      "\u001b[1;36m  Cell \u001b[1;32mIn[4], line 6\u001b[1;36m\u001b[0m\n\u001b[1;33m    def weighted_BFS:\u001b[0m\n\u001b[1;37m                    ^\u001b[0m\n\u001b[1;31mSyntaxError\u001b[0m\u001b[1;31m:\u001b[0m expected '('\n"
     ]
    }
   ],
   "source": [
    "class State():\n",
    "    def __init__(self, node, depth):\n",
    "        self.node = node\n",
    "        self.depth = depth\n",
    "\n",
    "def weighted_BFS(root):\n",
    "    if root is None:\n",
    "        return\n",
    "    q = deque()\n",
    "    q.append(State(root, 1))\n",
    "    \n",
    "    while q:\n",
    "        state = q.popleft()\n",
    "        depth = state.depth\n",
    "        cur = state.node    \n",
    "        print(f\"depth = {depth}, val = {cur.val}\")\n",
    "        \n",
    "        for child in cur.children():\n",
    "            q.append(State(child, depth+1))"
   ]
  },
  {
   "cell_type": "code",
   "execution_count": null,
   "metadata": {},
   "outputs": [],
   "source": []
  }
 ],
 "metadata": {
  "kernelspec": {
   "display_name": "Python 3",
   "language": "python",
   "name": "python3"
  },
  "language_info": {
   "codemirror_mode": {
    "name": "ipython",
    "version": 3
   },
   "file_extension": ".py",
   "mimetype": "text/x-python",
   "name": "python",
   "nbconvert_exporter": "python",
   "pygments_lexer": "ipython3",
   "version": "3.12.6"
  }
 },
 "nbformat": 4,
 "nbformat_minor": 2
}
