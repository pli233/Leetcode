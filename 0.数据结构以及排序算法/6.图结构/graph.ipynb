{
 "cells": [
  {
   "cell_type": "code",
   "execution_count": 4,
   "metadata": {},
   "outputs": [],
   "source": [
    "# 图节点的逻辑结构\n",
    "class Vertex:\n",
    "    def __init__(self, id: int):\n",
    "        self.id = id\n",
    "        self.neighbors = []"
   ]
  },
  {
   "cell_type": "code",
   "execution_count": 5,
   "metadata": {},
   "outputs": [],
   "source": [
    "# 邻接表\n",
    "# graph[x] 存储 x 的所有邻居节点\n",
    "\n",
    "class AdjacencyList:\n",
    "    def __init__(self, num_nodes: int):\n",
    "        # 初始化邻接表，包含 num_nodes 个节点\n",
    "        self.graph = [[] for _ in range(num_nodes)]\n",
    "    \n",
    "    def add_edge(self, u: int, v: int):\n",
    "        # 添加一条从 u 到 v 的边\n",
    "        self.graph[u].append(v)\n",
    "    \n",
    "    def get_neighbors(self, node: int):\n",
    "        # 获取节点的所有邻居\n",
    "        return self.graph[node]\n",
    "\n",
    "# 邻接矩阵：matrix[x][y] 记录 x 是否有一条指向 y 的边\n",
    "class AdjacencyMatrix:\n",
    "    def __init__(self, num_nodes: int):\n",
    "        # 初始化邻接矩阵，包含 num_nodes 个节点\n",
    "        self.matrix = [[False for _ in range(num_nodes)] for _ in range(num_nodes)]\n",
    "    \n",
    "    def add_edge(self, u: int, v: int):\n",
    "        # 添加一条从 u 到 v 的边\n",
    "        self.matrix[u][v] = True\n",
    "    \n",
    "    def has_edge(self, u: int, v: int):\n",
    "        # 检查是否有从 u 到 v 的边\n",
    "        return self.matrix[u][v]"
   ]
  },
  {
   "cell_type": "code",
   "execution_count": 6,
   "metadata": {},
   "outputs": [
    {
     "name": "stdout",
     "output_type": "stream",
     "text": [
      "True\n",
      "False\n",
      "2 -> 0, weight: 3\n",
      "2 -> 1, weight: 4\n",
      "False\n"
     ]
    }
   ],
   "source": [
    "class Edge:\n",
    "    def __init__(self, to: int, weight: int):\n",
    "        self.to = to\n",
    "        self.weight = weight\n",
    "        \n",
    "#Use adjacency list to construct a graph\n",
    "class WeightedDigraph:\n",
    "    def __init__(self, num_nodes: int):\n",
    "        self.graph = [[] for _ in range(num_nodes)]\n",
    "    \n",
    "    def addEdge(self, from_: int, to: int, weight: int):\n",
    "        self.graph[from_].append(Edge(to, weight))\n",
    "        \n",
    "    def removeEdge(self, from_: int, to: int):\n",
    "        temp = []\n",
    "        for e in self.graph[from_]:\n",
    "            if e.to!=to:\n",
    "                temp.append(e)\n",
    "        self.graph[from_] = temp\n",
    "        \n",
    "    def hasEdge(self, from_: int, to: int) -> bool:\n",
    "        \n",
    "        for e in self.graph[from_]:\n",
    "            if e.to == to:\n",
    "                return True\n",
    "        return False\n",
    "        \n",
    "    def weight(self, from_: int, to: int) -> int:\n",
    "        for e in self.graph[from_]:\n",
    "            if e.to == to:\n",
    "                return e.weight\n",
    "        raise ValueError(\"No such edge\")\n",
    "    def neighbors(self, v: int):\n",
    "        return self.graph[v]\n",
    "    \n",
    "graph = WeightedDigraph(3)\n",
    "graph.addEdge(0,1,1)\n",
    "graph.addEdge(1,2,2)\n",
    "graph.addEdge(2, 0, 3)\n",
    "graph.addEdge(2, 1, 4)\n",
    "\n",
    "print(graph.hasEdge(0, 1))\n",
    "print(graph.hasEdge(1, 0))\n",
    "\n",
    "for edge in graph.neighbors(2):\n",
    "    print(f\"{2} -> {edge.to}, weight: {edge.weight}\")\n",
    "# 2 -> 0, weight: 3\n",
    "# 2 -> 1, weight: 4\n",
    "\n",
    "graph.removeEdge(0, 1)\n",
    "print(graph.hasEdge(0, 1))  # false"
   ]
  },
  {
   "cell_type": "code",
   "execution_count": null,
   "metadata": {},
   "outputs": [],
   "source": [
    "# 图节点\n",
    "class Vertex:\n",
    "    def __init__(self, id=0, neighbors=None):\n",
    "        self.id = id\n",
    "        self.neighbors = neighbors if neighbors is not None else []\n",
    "\n",
    "# 图的遍历框架\n",
    "# 需要一个 visited 数组记录被遍历过的节点\n",
    "# 避免走回头路陷入死循环\n",
    "def dfs_graph(s, visited):\n",
    "    # base case\n",
    "    if s is None:\n",
    "        return\n",
    "    if visited.get(s.id, False):\n",
    "        # 防止死循环\n",
    "        return\n",
    "    # 前序位置\n",
    "    visited[s.id] = True\n",
    "    print(f\"visit {s.id}\")\n",
    "    for neighbor in s.neighbors:\n",
    "        dfs_graph(neighbor)\n",
    "    # 后序位置"
   ]
  }
 ],
 "metadata": {
  "kernelspec": {
   "display_name": "Python 3",
   "language": "python",
   "name": "python3"
  },
  "language_info": {
   "codemirror_mode": {
    "name": "ipython",
    "version": 3
   },
   "file_extension": ".py",
   "mimetype": "text/x-python",
   "name": "python",
   "nbconvert_exporter": "python",
   "pygments_lexer": "ipython3",
   "version": "3.12.6"
  }
 },
 "nbformat": 4,
 "nbformat_minor": 2
}
