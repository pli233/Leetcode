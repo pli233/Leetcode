{
 "cells": [
  {
   "cell_type": "markdown",
   "metadata": {},
   "source": []
  },
  {
   "cell_type": "code",
   "execution_count": null,
   "metadata": {},
   "outputs": [],
   "source": [
    "#Definition for singly-linked list.\n",
    "from typing import Optional\n",
    "\n",
    "\n",
    "class ListNode:\n",
    "    def __init__(self, val=0, next=None):\n",
    "        self.val = val\n",
    "        self.next = next\n",
    "class Solution:\n",
    "    def mergeTwoLists(self, list1: Optional[ListNode], list2: Optional[ListNode]) -> Optional[ListNode]:\n",
    "\n",
    "        if list1 is None and list2 is None:\n",
    "            return None\n",
    "        \n",
    "        if list1 is None:\n",
    "            return list2\n",
    "        \n",
    "        if list2 is None:\n",
    "            return list1\n",
    "\n",
    "        p1 = list1\n",
    "        p2 = list2\n",
    "        dummy = ListNode()\n",
    "        cur = dummy\n",
    "        while p1 is not None or p2 is not None:\n",
    "            if p1 is None:\n",
    "                cur.next = p2\n",
    "                return dummy.next\n",
    "            if p2 is None:\n",
    "                cur.next = p1\n",
    "                return dummy.next\n",
    "\n",
    "            if p1.val <= p2.val:\n",
    "                cur.next = p1\n",
    "                p1 = p1.next\n",
    "                cur = cur.next\n",
    "            else:\n",
    "                cur.next = p2\n",
    "                p2 = p2.next\n",
    "                cur = cur.next\n",
    "        return dummy.next\n"
   ]
  }
 ],
 "metadata": {
  "kernelspec": {
   "display_name": "Python 3",
   "language": "python",
   "name": "python3"
  },
  "language_info": {
   "name": "python",
   "version": "3.12.6"
  }
 },
 "nbformat": 4,
 "nbformat_minor": 2
}
