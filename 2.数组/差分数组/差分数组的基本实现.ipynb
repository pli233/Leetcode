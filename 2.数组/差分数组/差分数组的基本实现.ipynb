{
 "cells": [
  {
   "cell_type": "code",
   "execution_count": 20,
   "metadata": {},
   "outputs": [],
   "source": [
    "#差分数组对于某一个区间的values进行批量操作有非常好的效率提升\n",
    "#比如你想指定一个数组[i,j]区间都增加k的值\n",
    "#或者变成k倍，都是非常方便的\n",
    "# 差分数组类定义\n",
    "class DiffArray:\n",
    "    def __init__(self, nums):\n",
    "        assert len(nums) > 0\n",
    "\n",
    "        length = len(nums)\n",
    "        data = [0] * length\n",
    "        data[0] = nums[0]\n",
    "        for i in range(1, length):\n",
    "            data[i] = nums[i] - nums[i - 1]\n",
    "\n",
    "        self.data = data\n",
    "        self.length = length\n",
    "\n",
    "    def get(self):\n",
    "        res = [0] * self.length\n",
    "        res[0] = self.data[0]\n",
    "\n",
    "        for i in range(1, self.length):\n",
    "            res[i] = res[i - 1] + self.data[i]\n",
    "        return res\n",
    "\n",
    "    def increase(self, i, j, v):\n",
    "        self.data[i] += v\n",
    "        if j+1 < self.length:\n",
    "            self.data[j+1] -= v\n",
    "\n",
    "\n",
    "        \n",
    "        "
   ]
  },
  {
   "cell_type": "code",
   "execution_count": 24,
   "metadata": {},
   "outputs": [
    {
     "name": "stdout",
     "output_type": "stream",
     "text": [
      "[3, 2, 4, 5, 6, 7]\n",
      "[3, 5, 7, 8, 9, 10]\n"
     ]
    }
   ],
   "source": [
    "# 测试代码\n",
    "nums = [3, 2, 4, 5, 6, 7]\n",
    "diff_nums = DiffArray(nums)  # 实例化对象\n",
    "print(diff_nums.get()) \n",
    "diff_nums.increase(1,5,3)\n",
    "print(diff_nums.get()) "
   ]
  }
 ],
 "metadata": {
  "kernelspec": {
   "display_name": "csci2470 Python 3.9.12",
   "language": "python",
   "name": "csci2470"
  },
  "language_info": {
   "codemirror_mode": {
    "name": "ipython",
    "version": 3
   },
   "file_extension": ".py",
   "mimetype": "text/x-python",
   "name": "python",
   "nbconvert_exporter": "python",
   "pygments_lexer": "ipython3",
   "version": "3.9.12"
  }
 },
 "nbformat": 4,
 "nbformat_minor": 2
}
